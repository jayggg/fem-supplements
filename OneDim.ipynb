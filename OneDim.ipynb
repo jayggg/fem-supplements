{
 "cells": [
  {
   "cell_type": "markdown",
   "id": "5d75aa36-cf0a-4bcf-ac34-f1267db6f5f4",
   "metadata": {},
   "source": [
    "# Lagrange space on one-dimensional domains\n",
    "\n",
    "In this activity, we become familiar with a computational object that can represent members of the simplest finite element space, called the Lagrange finite element space. These are *vector spaces of functions* on a spatial domain. We will begin by seeing how distinct finite elements on a mesh are glued together to form such a space. The glued function space is often called a *global finite element space* to contrast it with the spaces on each individual finite element, referred to as *local finite element spaces*."
   ]
  },
  {
   "cell_type": "markdown",
   "id": "598b00ea-bcb8-4a30-954e-56181ac30d6f",
   "metadata": {},
   "source": [
    "We start by importing the Python objects we use in this notebook."
   ]
  },
  {
   "cell_type": "code",
   "execution_count": null,
   "id": "a4f6b486-febd-4131-8bc6-f3811f799751",
   "metadata": {},
   "outputs": [],
   "source": [
    "import ngsolve as ng\n",
    "from ngsolve.meshes import Make1DMesh\n",
    "from ngsolve import H1, x, sin, Discontinuous, GridFunction\n",
    "import matplotlib.pyplot as plt\n",
    "import numpy as np\n",
    "from matplotlib.colors import TABLEAU_COLORS as tc\n",
    "colors = [tc[key] for key in tc]    "
   ]
  },
  {
   "cell_type": "markdown",
   "id": "0512cca8-8ee5-454f-8b57-009d75728f74",
   "metadata": {},
   "source": [
    "## One element"
   ]
  },
  {
   "cell_type": "markdown",
   "id": "9b01515a-6548-406c-b92d-c94cbbae3739",
   "metadata": {},
   "source": [
    "We create a mesh of the unit interval $[0, 1]$ consisting of a single finite element on the same interval, as follows."
   ]
  },
  {
   "cell_type": "code",
   "execution_count": null,
   "id": "6530a201-d59f-4196-8351-46fb18de31cb",
   "metadata": {},
   "outputs": [],
   "source": [
    "mesh1 = Make1DMesh(1) # one element mesh of [0, 1]\n",
    "for p in mesh1.vertices:\n",
    "    print(p.point)    # confirm the mesh point coordinates"
   ]
  },
  {
   "cell_type": "markdown",
   "id": "2c1ad302-7fb8-42d4-a533-a034ebf39105",
   "metadata": {},
   "source": [
    "In higher dimensions, the printed tuple `p.point` will show more coordinates. "
   ]
  },
  {
   "cell_type": "markdown",
   "id": "13f0ee6f-4a37-4c65-9c52-071053fa8259",
   "metadata": {},
   "source": [
    "The quadratic Lagrange finite element on this single element is made in the `V` object below using the ngsolve facility `H1`. (The name `H1` refers to a Sobolev space related to the Lagrange space.) The `ndof` attribute stores the number of degrees of freedom of the element. In this case, we get the expected number of three degrees of freedom for the quadratic Lagrange element.  "
   ]
  },
  {
   "cell_type": "code",
   "execution_count": null,
   "id": "f1e81cd4-5a25-4471-8188-d8e1e8423a8d",
   "metadata": {},
   "outputs": [],
   "source": [
    "V1 = H1(mesh1, order=2) # set degree using the keyword \"order\"\n",
    "V1.ndof"
   ]
  },
  {
   "cell_type": "markdown",
   "id": "b478cf36-9e28-459a-93d9-922bbc2545ca",
   "metadata": {},
   "source": [
    "Functions of finite element spaces are represented by `GridFunction` objects in ngsolve."
   ]
  },
  {
   "cell_type": "code",
   "execution_count": null,
   "id": "04197c70-666e-4020-98a1-50135f643d1c",
   "metadata": {},
   "outputs": [],
   "source": [
    "v = ng.GridFunction(V1)"
   ]
  },
  {
   "cell_type": "markdown",
   "id": "99ebd0fe-de6b-4601-a235-a0b77ad1e2d5",
   "metadata": {},
   "source": [
    "If $\\theta_i(x)$ denote the shape functions of this finite element, then any function in the finite element space takes the form \n",
    "\n",
    "$$\n",
    "  v(x) = \\sum_i v_i \\theta_i(x)\n",
    "$$\n",
    "\n",
    "for some numbers $v_i$. The `GridFunction` object `v` represents this function $v$ and contains the numbers $v_i$ in its data attribute `v.vec`. By printing out `v.vec` we thus have complete information on the function, provided we know the shape functions $\\theta_i$. Similarly, by setting the array `v.vec`, we can represent any function in the finite element space as we wish. \n",
    "\n",
    "Not all finite element codes use the same shape functions (even if the space they span is a  classical finite element space). Let us acquaint ourselves with the Lagrange shape functions $\\theta_i(x)$ used by ngsolve. We need a small routine to evaluate the finite element function at many points (say a hundred, as set below) within an element and plot the result. "
   ]
  },
  {
   "cell_type": "code",
   "execution_count": null,
   "id": "a1f1aa6b-c96c-4348-a1a9-e1aec9cb384d",
   "metadata": {},
   "outputs": [],
   "source": [
    "def plot1D(w, msh, style='k', title=None):  \n",
    "  \"\"\"\n",
    "  Utility to plot 1D finite element functions\n",
    "  \"\"\"\n",
    "  pts = [vtx.point[0] for vtx in msh.vertices]\n",
    "  ev = [e.vertices for e in msh.Elements(ng.VOL)]\n",
    "  for i in range(len(ev)):\n",
    "    a = pts[ev[i][0].nr] \n",
    "    b = pts[ev[i][1].nr] \n",
    "    aa = min(a, b) + 0.01 * abs(b-a)\n",
    "    bb = max(a, b) - 0.01 * abs(b-a)\n",
    "    xs = np.linspace(aa, bb, num=100)\n",
    "    ws = [w(msh(x)) for x in xs]\n",
    "    plt.plot(xs, ws, style, alpha=0.5, lw=3)\n",
    "  plt.xlabel('x'); plt.title(title)"
   ]
  },
  {
   "cell_type": "markdown",
   "id": "bc5dbd88-7775-4b2c-bfe0-de41b84dc881",
   "metadata": {},
   "source": [
    "In three distinct colors, we see the three shape functions of the quadratic Lagrange element used within ngsolve. We discover that the Lagrange shape functions in ngsolve are not exactly the shape functions generated by the degrees of freedom of the principal lattice. But note that (see exercises) the same finite element can admit many distinct unisolvent degrees of freedom."
   ]
  },
  {
   "cell_type": "code",
   "execution_count": null,
   "id": "1bfc2429-74fa-4225-832c-f7e12b7b320f",
   "metadata": {},
   "outputs": [],
   "source": [
    "for i in range(3):\n",
    "  v.vec[:] = 0\n",
    "  v.vec[i] = 1\n",
    "  plot1D(v, mesh1, style=colors[i], title='Three Lagrange shape functions $\\\\theta_i$')"
   ]
  },
  {
   "cell_type": "markdown",
   "id": "30659ab4-e116-419d-b6c5-2264ebdb56ae",
   "metadata": {},
   "source": [
    "## Gluing two elements "
   ]
  },
  {
   "cell_type": "code",
   "execution_count": null,
   "id": "cc59ef29-34a8-4456-b17e-23595d2c95b2",
   "metadata": {},
   "outputs": [],
   "source": [
    "mesh2 = Make1DMesh(2)  # two element mesh\n",
    "for p in mesh2.vertices:\n",
    "    print(p.point)     # this mesh now has 3 points"
   ]
  },
  {
   "cell_type": "markdown",
   "id": "b5750ec2-bb1a-406c-82de-c3b0ebf773d0",
   "metadata": {},
   "source": [
    "On this mesh of two elements, let us start by examining two *independent* quadratic Lagrange elements, where   functions of one element are *not glued* to the next element. This is achieved using the `Discontinuous` facility in ngsolve. As expected we now find a space of dimension $3 + 3 = 6$."
   ]
  },
  {
   "cell_type": "code",
   "execution_count": null,
   "id": "338f8d46-2a7a-4ebd-b466-961f14544ec6",
   "metadata": {},
   "outputs": [],
   "source": [
    "V2 = Discontinuous(H1(mesh2, order=2))\n",
    "V2.ndof"
   ]
  },
  {
   "cell_type": "code",
   "execution_count": null,
   "id": "74ec1e48-0628-44bf-8622-8049b4a2569c",
   "metadata": {},
   "outputs": [],
   "source": [
    "v = GridFunction(V2)\n",
    "v.vec[:] = 0; v.vec[0] = 1\n",
    "plot1D(v, mesh2, style='b', title='First discontinuous shape function')"
   ]
  },
  {
   "cell_type": "code",
   "execution_count": null,
   "id": "5c275987-54e3-42d6-aa20-ce9641d9ade5",
   "metadata": {},
   "outputs": [],
   "source": [
    "v.vec[:] = 0; v.vec[4] = 1\n",
    "plot1D(v, mesh2, style='k:', title='Fourth discontinuous shape function')"
   ]
  },
  {
   "cell_type": "markdown",
   "id": "7b59ce4f-0dfd-44dd-891f-b45b7e0f5e04",
   "metadata": {},
   "source": [
    "If we glue these first and fourth functions together we get a continuous function. The global Lagrange finite element space accomplishes this by coalescing the first and fourth degrees of freedom into one, thereby merging the above two shape functions into one global shape function corresponding to the coalesced global degree of freedom. We obtain this global Lagrange finite element space in ngsolve by simply omitting the adjective `Discontinuous` from the prior space definition."
   ]
  },
  {
   "cell_type": "code",
   "execution_count": null,
   "id": "ea8dd23f-a2bd-4564-923e-831c5438299a",
   "metadata": {},
   "outputs": [],
   "source": [
    "V = H1(mesh2, order=2) # omitted \"Discontinuous\"\n",
    "V.ndof"
   ]
  },
  {
   "cell_type": "markdown",
   "id": "b84f0c8b-0ca9-407b-99d3-0610133041f4",
   "metadata": {},
   "source": [
    "All *global shape functions* of this space can be visualized in the same way as before. We immediately see that none of them are discontinuous. "
   ]
  },
  {
   "cell_type": "code",
   "execution_count": null,
   "id": "f53d8f30-264e-4e6f-84d3-a1a7f0e7115c",
   "metadata": {},
   "outputs": [],
   "source": [
    "v = GridFunction(V)\n",
    "c = ['b', 'r', 'g', ':y', ':m']\n",
    "for i in range(V.ndof):\n",
    "  v.vec[:] = 0 \n",
    "  v.vec[i] = 1\n",
    "  plot1D(v, mesh2, style=c[i], title='Continuous global shape functions')"
   ]
  },
  {
   "cell_type": "markdown",
   "id": "ae989560-a3d5-4f5b-8e0d-51d4ecc1bbec",
   "metadata": {},
   "source": [
    "The global finite element space consists of functions of the form \n",
    "\n",
    "$$\n",
    "v(x) = \\sum_i v_i \\Theta_i(x)\n",
    "$$\n",
    "\n",
    "where $\\Theta_i(x)$ are global shape functions. For the current example, we plotted them above. Note that when $\\Theta_i$ is restricted to a single element, we obtain either the zero function or a local shape function $\\theta_j$ of that element. A set of linear functionals $G_j$ on the global finite element space having the property $G_j(\\Theta_j) = \\delta_{ij}$ are called *global degrees of freedom.* Here $\\delta_{ij}$ denotes the Kronecker delta (equals 1 if $i=j$ and 0 otherwise). "
   ]
  },
  {
   "cell_type": "markdown",
   "id": "8099e296-d5a8-453f-be5f-89c92460640e",
   "metadata": {},
   "source": [
    "## Coupling degrees of freedom\n",
    "\n",
    "When some local degrees of freedom of distinct finite elements are fused together to form a single global degree of freedom, like we saw above, the result is called a *coupling degree of freedom*. In ngsolve, every global shape function, or equivalently every global degree of freedom, is given a `CouplingType`. When its `CouplingType` is `LOCAL_DOF`, it is *not* a coupling degree of freedom; all other values of `CouplingType` indicates a coupling degree of freedom. "
   ]
  },
  {
   "cell_type": "code",
   "execution_count": null,
   "id": "cebf14cb-dafd-488e-bb9e-d9f8d9d43fe3",
   "metadata": {},
   "outputs": [],
   "source": [
    "for i in range(V.ndof):\n",
    "    print(V.CouplingType(i))"
   ]
  },
  {
   "cell_type": "markdown",
   "id": "9c793a36-1ee0-4417-86ed-d2cfcf187629",
   "metadata": {},
   "source": [
    "In this case, we see that all degrees of freedom are coupling degrees of freedom except the last two. Each degree of freedom  marked `LOCAL_DOF` is identical to a local element degree of freedom within some element and its corresponding shape function is supported only on that single element. (You can verify that the last two shape functions in the current example are supported only on a single element by reviewing the plots of the global shape functions above.)"
   ]
  },
  {
   "cell_type": "markdown",
   "id": "fd2657c2-6e3b-460e-bc0f-fccef85bf231",
   "metadata": {},
   "source": [
    "## Approximation"
   ]
  },
  {
   "cell_type": "markdown",
   "id": "4405e14f-5438-4c69-b9f1-5c69601e5e84",
   "metadata": {},
   "source": [
    "One method of creating a finite element approximation of some given function $f(x)$  is by the finite element interpolant. In ngsolve, another technique of creating approximations is offered as the default. This is in a method called `Set` that all `GridFunctions` have. It implements the *Oswald approximation,* obtained by first computing the $L_2$ projection of $f$ into each local finite element space and then assigning to every coupling degree of freedom the average of the degrees of freedom of the projection that were fused to form that coupling degree of freedom."
   ]
  },
  {
   "cell_type": "code",
   "execution_count": null,
   "id": "6597a87c-a532-48c7-8ff1-8c4eb5864c25",
   "metadata": {},
   "outputs": [],
   "source": [
    "v.Set(sin(5*x))\n",
    "plot1D(sin(5*x), mesh2, style=':b')\n",
    "plot1D(v, mesh2, 'k')"
   ]
  },
  {
   "cell_type": "markdown",
   "id": "ffee6c87-ced8-4420-a28f-ba922f9d37e4",
   "metadata": {},
   "source": [
    "Clearly the approximation (solid curve) and the original (dotted sine curve) are close, but not identical. \n",
    "\n",
    "**Questions for discussion:**\n",
    "\n",
    "- What happens when you lower the degree on the same mesh?\n",
    "\n",
    "- What happens when you increase the degree on the same mesh?\n",
    "\n",
    "- How can you tell that these approximations are not obtained by the canonical finite element interpolation?  "
   ]
  },
  {
   "cell_type": "markdown",
   "id": "4e5e6274-0535-4a1c-856c-f1c41a1c186b",
   "metadata": {},
   "source": [
    "One way to improve the approximation is by increasing the degree. Another way is to make the mesh finer, as we see now. "
   ]
  },
  {
   "cell_type": "markdown",
   "id": "261beea6-c931-4f76-8fb3-76dae50c0f98",
   "metadata": {},
   "source": [
    "## The lowest order case"
   ]
  },
  {
   "cell_type": "markdown",
   "id": "c1962093-8efe-42f3-b84c-830920cd7001",
   "metadata": {},
   "source": [
    "Partition the interval $[0, 1]$ using a uniform mesh $\\{ x_i = i h: i=0, \\ldots, N \\}$ of $N+1$ points, where the mesh size is $h = 1/N$ and set  \n",
    "\n",
    "$$\n",
    "V_{h, 1} = \\{ v: \\; v \\text{ is continuous and }\n",
    "v|_{[x_i, x_{i+1}]} \\text { is linear }\\}.\n",
    "$$\n",
    "\n",
    "This vector space is called the **lowest order Lagrange finite element space** in the one-dimensional domain $[0,1]$. With $N$ as a variable to adjust, let us make  this space in ngsolve:"
   ]
  },
  {
   "cell_type": "code",
   "execution_count": null,
   "id": "feb4892b-05dc-4751-b78f-08edeff56be7",
   "metadata": {},
   "outputs": [],
   "source": [
    "N = 5 \n",
    "mesh = Make1DMesh(N) \n",
    "V0 = H1(mesh, order=1)\n",
    "V0.ndof"
   ]
  },
  {
   "cell_type": "code",
   "execution_count": null,
   "id": "e798857c-b6b5-4b74-bf78-868aa3db3891",
   "metadata": {},
   "outputs": [],
   "source": [
    "v = GridFunction(V0)\n",
    "v.Set(sin(5*x))\n",
    "plot1D(sin(5*x), mesh, style=':b')\n",
    "plot1D(v, mesh, 'k')"
   ]
  },
  {
   "cell_type": "markdown",
   "id": "2a4bb412-3387-4c7a-9f1f-9741cd2da966",
   "metadata": {},
   "source": [
    "Does the approximation improve as $h \\to 0$ or $N \\to \\infty$? "
   ]
  },
  {
   "cell_type": "code",
   "execution_count": null,
   "id": "dde1a593-b144-485a-a5d8-3d132b508c16",
   "metadata": {},
   "outputs": [],
   "source": [
    "for i in range(N+1):\n",
    "    v.vec[:] = 0\n",
    "    v.vec[i] = 1\n",
    "    plot1D(v, mesh, style=colors[i], title='Global shape functions $\\\\Theta_i$')"
   ]
  },
  {
   "cell_type": "markdown",
   "id": "18c806b6-2b3b-4b43-bcea-e33d1eb5eb49",
   "metadata": {},
   "source": [
    "These functions $\\Theta_i \\in V_{h1}$ with the property \n",
    "\n",
    "$$\n",
    "\\Theta_i(x_j) = \\delta_{ij}\n",
    "$$\n",
    "\n",
    "at every mesh point $x_j$ are often called **hat functions** colloquially. Note that although the statement $\\Theta_i(x_j) = \\delta_{ij}$ only gives the values of $\\Theta_i$ at the mesh vertices $x_j$, that is enough to determine the function $\\Theta_i$ everywhere, since it is linear in between the mesh points."
   ]
  },
  {
   "cell_type": "markdown",
   "id": "6e822a17-9120-4dcc-9a4f-5aca9650a972",
   "metadata": {},
   "source": [
    "**Questions for discussion**\n",
    "\n",
    "- What type of an object is `sin(x)`?\n",
    "- Can you try other function expressions?\n",
    "\n",
    "Please review [NGSolve i-Tutorial 1.2](https://ngsolve.org/docu/latest/i-tutorials/unit-1.2-coefficient/coefficientfunction.html) to learn more about `CoefficientFunction` objects."
   ]
  }
 ],
 "metadata": {
  "kernelspec": {
   "display_name": "Python 3 (ipykernel)",
   "language": "python",
   "name": "python3"
  },
  "language_info": {
   "codemirror_mode": {
    "name": "ipython",
    "version": 3
   },
   "file_extension": ".py",
   "mimetype": "text/x-python",
   "name": "python",
   "nbconvert_exporter": "python",
   "pygments_lexer": "ipython3",
   "version": "3.11.6"
  }
 },
 "nbformat": 4,
 "nbformat_minor": 5
}
