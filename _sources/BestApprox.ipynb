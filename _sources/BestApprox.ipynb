{
 "cells": [
  {
   "cell_type": "markdown",
   "id": "46477a6f-48c6-4c87-8c8d-1164941de6b8",
   "metadata": {},
   "source": [
    "# Best approximations and 2D domains"
   ]
  },
  {
   "cell_type": "markdown",
   "id": "76f8d947-68fd-4fea-bf90-1cbdc16456de",
   "metadata": {},
   "source": [
    "Having seen finite elements on one-dimensional domains [previously](./OneDim.ipynb), we now consider two-dimensional domains and three finite element spaces on them, denoted by $W_{hp}, V_{up}$ and $U_{h}$, defined as follows: \n",
    "\n",
    "- Perhaps the simplest finite element space is $W_{hp} = \\{ w: \\; w|_K$  is a polynomial of degree $ \\le p$  on each mesh element $K\\},$ often called the **DG space** (or the \"discontinuous Galerkin\" space).\n",
    "- With more inter-element continuity restrictions, one obtains the smaller often-used space,  the **Lagrange space** (whose lowest order case is also often called the *Courant space*), namely $V_{hp} = \\{ v: \\; v $ is continuous and $v|_K$ is a polynomial of degree  $\\le p$ on each mesh element $ K\\}.$\n",
    "- The **CR space** (also known as the *scalar Crouzeix-Raviart space* or the *$P_1$-nonconforming space*) is $U_h = \\{ u: u|_K $ is linear on each mesh element $K$ and is continuous at each mesh edge midpoint$\\}.$\n",
    "\n",
    "In this notebook, we examine these spaces and *minimize a distance functional to compute best approximations* from these  spaces."
   ]
  },
  {
   "cell_type": "code",
   "execution_count": null,
   "id": "7032661f-99a6-4200-8ed6-2a6a0b103a70",
   "metadata": {},
   "outputs": [],
   "source": [
    "import ngsolve as ng\n",
    "from ngsolve import Mesh, H1, L2, FESpace, GridFunction, x, y, dx, exp \n",
    "from netgen.occ import unit_square\n",
    "from ngsolve.webgui import Draw"
   ]
  },
  {
   "cell_type": "markdown",
   "id": "3221e686-064e-4381-a7e4-958467e6b9e7",
   "metadata": {},
   "source": [
    "## Shape functions in the lowest order case"
   ]
  },
  {
   "cell_type": "markdown",
   "id": "197fc550-3220-4bb4-b857-dcb16c0d61bd",
   "metadata": {},
   "source": [
    "Let us begin by examining the lowest order cases of the three above-mentioned spaces on a coarsely meshed square domain."
   ]
  },
  {
   "cell_type": "code",
   "execution_count": null,
   "id": "9e25767b-b3b6-4d0a-a081-4f8f22f22aab",
   "metadata": {},
   "outputs": [],
   "source": [
    "mesh = Mesh(unit_square.GenerateMesh(maxh=0.4))\n",
    "Draw(mesh);"
   ]
  },
  {
   "cell_type": "markdown",
   "id": "f39678fa-e14b-4449-874c-acd5ebd52162",
   "metadata": {},
   "source": [
    "The DG space is obtained in ngsolve using `L2` as seen below. For linear or higher degrees, the vector space given by `L2`  and `Discontinuous(H1(...))` (seen [previously](OneDim.ipynb)) are the same. The lowest order DG space consists of piecewise constants:"
   ]
  },
  {
   "cell_type": "code",
   "execution_count": null,
   "id": "c80af72b-0dbe-4657-a74c-952bef525fbc",
   "metadata": {},
   "outputs": [],
   "source": [
    "W = ng.L2(mesh, order=0)\n",
    "w = GridFunction(W)\n",
    "w.vec[:] = 0; w.vec[W.ndof//2] = 0.2 \n",
    "Draw(w, deformation=True, euler_angles=[-70,0,0]);"
   ]
  },
  {
   "cell_type": "markdown",
   "id": "2aacbd5b-df9c-4570-822f-7855e7e1e655",
   "metadata": {},
   "source": [
    "Clearly there is one shape function per mesh triangle that forms a basis for this space. \n",
    "\n",
    "Next, consider the lowest order Lagrange space, whose functions, unlike the DG space, are continuous. The lowest order that gives a nontrivial space now is the case `order=1`. Note how that there is one shape function per vertex."
   ]
  },
  {
   "cell_type": "code",
   "execution_count": null,
   "id": "d65ef029-61a0-4a98-beee-17bbd4d0a7fa",
   "metadata": {},
   "outputs": [],
   "source": [
    "V = ng.H1(mesh, order=1)\n",
    "v = GridFunction(V)\n",
    "v.vec[:] = 0; v.vec[mesh.nv-1] = 0.2 \n",
    "Draw(v, deformation=True, euler_angles=[-50,0,0]);"
   ]
  },
  {
   "cell_type": "markdown",
   "id": "74e2160a-7bb9-42bc-9a14-39cab6f6265b",
   "metadata": {},
   "source": [
    "This is the familiar \"hat function\" associated to a vertex. \n",
    "\n",
    "The third space is the CR space made below. It has one shape function associated to each mesh edge. The continuity at the  edge midpoint is evident from the plot of the shape functions:"
   ]
  },
  {
   "cell_type": "code",
   "execution_count": null,
   "id": "fa083c5b-b21d-42b2-827d-8159553a630d",
   "metadata": {},
   "outputs": [],
   "source": [
    "U = ng.FESpace('nonconforming', mesh) # only degree=1 available\n",
    "u = GridFunction(U)\n",
    "u.vec[:] = 0; u.vec[mesh.nedge-1] = 0.2 \n",
    "Draw(u, deformation=True, euler_angles=[-60,0,-50]);"
   ]
  },
  {
   "cell_type": "markdown",
   "id": "ecf86a5d-e2f6-4096-8216-d9567c3d0278",
   "metadata": {},
   "source": [
    "**Question for discussion:** For the Lagrange and CR spaces,  how do your answers for the following differ?\n",
    "- What are the element spaces?\n",
    "- What are the element degrees of freedom? \n",
    "- How are element degrees of freedom fused together to form global degrees of freedom?\n",
    "  "
   ]
  },
  {
   "cell_type": "markdown",
   "id": "89f750d5-8504-4258-8340-ec583823dd69",
   "metadata": {},
   "source": [
    "## Higher order cases and coupling dofs"
   ]
  },
  {
   "cell_type": "markdown",
   "id": "09bf789f-0595-4c30-9e63-7674d6073dee",
   "metadata": {},
   "source": [
    "Higher degree versions of the Lagrange and DG spaces are routinely used. Higher degree CR-type spaces are typically not used and are not implemented in ngsolve, but one can constrain the DG space to effectively work in such spaces (as we will see in a later section below). "
   ]
  },
  {
   "cell_type": "markdown",
   "id": "ffd7f027-5dba-48c0-b4fb-bb38ffa59b27",
   "metadata": {},
   "source": [
    "The quadratic Lagrange space is made next and one of its shape functions is plotted below:"
   ]
  },
  {
   "cell_type": "code",
   "execution_count": null,
   "id": "0452e13b-a545-4555-8639-014677d221ac",
   "metadata": {},
   "outputs": [],
   "source": [
    "V2 = ng.H1(mesh, order=2)\n",
    "v = GridFunction(V2)\n",
    "v.vec[:] = 0;\n",
    "v.vec[40] = -1\n",
    "Draw(v, deformation=True, euler_angles=[-60,0,0],\n",
    "     settings={\"Misc\": {\"subdivision\": 15, \"line_thickness\": 5, \"fast_draw\": True},\n",
    "               \"Colormap\":{\"autoscale\": True, \"ncolors\": 16}});"
   ]
  },
  {
   "cell_type": "markdown",
   "id": "d731d706-3052-4bcd-a7e1-31459615f21e",
   "metadata": {},
   "source": [
    "The cubic DG space is made next and one of its shape functions is  shown:"
   ]
  },
  {
   "cell_type": "code",
   "execution_count": null,
   "id": "1bd3dc72-12c8-4981-a827-f1ff42acf135",
   "metadata": {},
   "outputs": [],
   "source": [
    "W3 = ng.L2(mesh, order=3)\n",
    "w = GridFunction(W3)\n",
    "w.vec[:] = 0;\n",
    "w.vec[W3.ndof-2] = 0.3\n",
    "Draw(w,deformation=True, euler_angles=[-80,0,-30],\n",
    "     settings={\"Misc\": {\"subdivision\": 15, \"line_thickness\": 5, \"fast_draw\": True},\n",
    "               \"Colormap\":{\"autoscale\": True, \"ncolors\": 16}});"
   ]
  },
  {
   "cell_type": "markdown",
   "id": "cbdc57cc-072a-4d68-9757-e6c82b9f8586",
   "metadata": {},
   "source": [
    "In [a previous notebook](OneDim.ipynb), we saw how to distinguish between *coupling* and *local* degrees of freedom. As you can imagine, the DG space, not having any continuity requirements, has no coupling degrees of freedom. "
   ]
  },
  {
   "cell_type": "code",
   "execution_count": null,
   "id": "e4c07e22-daec-4885-ac1d-7ae6a95e379d",
   "metadata": {},
   "outputs": [],
   "source": [
    "all( [W3.CouplingType(i) == ng.COUPLING_TYPE.LOCAL_DOF  # true if this holds for all dofs\n",
    "      for i in range(W3.ndof)] )"
   ]
  },
  {
   "cell_type": "markdown",
   "id": "6ee21973-f06e-4c75-8b95-2ee5e207afaf",
   "metadata": {},
   "source": [
    "In contrast, the CR space has no local degrees of freedom."
   ]
  },
  {
   "cell_type": "code",
   "execution_count": null,
   "id": "f2b5d94d-b3f4-4a3e-a144-58386a50bd89",
   "metadata": {},
   "outputs": [],
   "source": [
    "any( [U.CouplingType(i) == ng.COUPLING_TYPE.LOCAL_DOF \n",
    "      for i in range(U.ndof)] )"
   ]
  },
  {
   "cell_type": "markdown",
   "id": "2213e5af-5732-422b-b1f4-51ac539bbe12",
   "metadata": {},
   "source": [
    "**Questions for discussion:**\n",
    "- For what degrees does the Lagrange space have local degrees of freedom in two space dimensions?\n",
    "- What would be your answer in higher dimensions?\n",
    "- How do we make finite element spaces on three-dimensional domains in ngsolve? "
   ]
  },
  {
   "cell_type": "markdown",
   "id": "a4c9ada0-e9b3-483b-b64a-2e728031f0a7",
   "metadata": {},
   "source": [
    "## Best approximation "
   ]
  },
  {
   "cell_type": "markdown",
   "id": "fc4da84f-b162-4a6f-95e8-4d6afec76e07",
   "metadata": {},
   "source": [
    "There are multiple ways to approximate a given function `f` by finite element spaces. \n",
    "\n",
    "- One is by the Oswald approximation, implemented in ngsolve by the `GridFunction.Set(f)` method, as we have [already seen](OneDim.ipynb). \n",
    "- Another is the canonical finite element interpolant, obtainable in ngsolve using the same method but used with an additional keyword argument: `GridFunction.Set(f, dual=True)`.\n",
    "- While the above two are local constructs, there is a global approximation method which gives the best possible approximation to `f` from the finite element space, which we  now discuss.\n",
    "\n"
   ]
  },
  {
   "cell_type": "markdown",
   "id": "b3963c28-d3e8-4ad2-bbda-052e5a9b24bb",
   "metadata": {},
   "source": [
    "*Given a function $\\newcommand{\\om}{\\varOmega}$ $f \\in L_2(\\om)$, the best approximation to $f$ from a finite element subspace $S_h$ of $L_2(\\om)$ is obtained as the unique minimizer $f_h \\in S_h$ satisfying*\n",
    "\n",
    "$$\n",
    "\\| f - f_h \\|^2_{L_2(\\om)} = \\min_{v \\in S_h } \\| f -v \\|^2_{L_2(\\om)}.\n",
    "$$\n"
   ]
  },
  {
   "cell_type": "markdown",
   "id": "5f63b1b1-6141-488b-a9f5-5b1b97a45930",
   "metadata": {},
   "source": [
    "To find this minimizer, we can use ngsolve's automatic Netwon-based minimization facilities as shown in the next bit of code: behind the scenes, it automatically differentiates the quadratic functional $Q(v) = \\| f -v \\|^2_{L_2(\\om)}$ and uses the Newton iteration on the linearized differential to solve for the minimum."
   ]
  },
  {
   "cell_type": "code",
   "execution_count": null,
   "id": "0367f483-abc2-44f1-8611-8a338e870f50",
   "metadata": {},
   "outputs": [],
   "source": [
    "def MinDistL2(fespace, function):\n",
    "    \"\"\"\n",
    "    Return the best approximation of \"function\" from the \"fespace\"\n",
    "    where optimality is measured in the L2 norm.\n",
    "    \"\"\"\n",
    "    approx = GridFunction(fespace)\n",
    "    approx = fespace.TrialFunction()\n",
    "\n",
    "    # Set up the distance minimization \n",
    "    a = ng.BilinearForm(fespace)\n",
    "    a += ng.Variation((function - approx)**2 * dx)\n",
    "\n",
    "    # Solve for the minimizer\n",
    "    best_approx = GridFunction(fespace)\n",
    "    ng.solvers.Newton(a=a, u=best_approx, printing=False)\n",
    "    \n",
    "    return best_approx"
   ]
  },
  {
   "cell_type": "markdown",
   "id": "97918b97-deed-459c-83fd-cf56bd5bc882",
   "metadata": {},
   "source": [
    "Here `approx` is an ngsolve `TrialFunction` that takes the role of $v$ in the minimization above, `function` is an expression representing the given function $f$,  `dx` tells ngsolve to integrate over all elements of the mesh, `Variation` asks ngsolve to compute the linearization automatically, and `BilinearForm` allows for storage and representation of the linearization. We will become much more familiar with some of these objects as the course proceeds. If you think that just calling `Newton` is too opaque, rest assured that we will see other more transparent ways to compute the minimizer later."
   ]
  },
  {
   "cell_type": "markdown",
   "id": "8660363e-a44b-4c5f-974d-3a6f2fbd528d",
   "metadata": {},
   "source": [
    "Let us now apply the above function to compute the best approximation to a given function from three finite element spaces.\n",
    "\n",
    "This is also a good time to hint at the ease of *specifying complex domains through the tools at your disposal now.* The renowned OCCT kernel for geometric modeling from the [Open Cascade](https://www.opencascade.com/) company is made available in ngsolve via the `netgen.occ` module. Here is an example domain that goes a bit beyond the unit square."
   ]
  },
  {
   "cell_type": "code",
   "execution_count": null,
   "id": "265cf0f3-b753-44d1-9567-15a6242807fb",
   "metadata": {},
   "outputs": [],
   "source": [
    "from netgen.occ import WorkPlane, Glue, OCCGeometry\n",
    "\n",
    "n = 8\n",
    "wp = WorkPlane()\n",
    "\n",
    "# make a polygon of n sides \n",
    "for i in range(n): \n",
    "    wp.Line(1).Rotate(360/n)\n",
    "face = wp.Face()\n",
    "\n",
    "# make three holes to cut out later\n",
    "wp.MoveTo(0, 1.5)\n",
    "eye1 = wp.Rectangle(l=0.3, w=0.2).Face()\n",
    "wp.MoveTo(0.8, 1.5)\n",
    "eye2 = wp.Rectangle(l=0.3, w=0.2).Face()\n",
    "wp.MoveTo(0, 0.7)\n",
    "smile = wp.Rectangle(l=1, w=0.15).Face()\n",
    "wp.MoveTo(0.45, 1)\n",
    "\n",
    "# make a subdomain (not to be cut out)\n",
    "nose = wp.Rectangle(l=0.2, w=0.5).Face()\n",
    "nose.name = 'nose'\n",
    "nose.maxh = 0.05\n",
    "\n",
    "# final structure, using union and set subtraction\n",
    "domain = Glue([nose, face - eye1 - eye2 - smile])\n",
    "mesh = Mesh(OCCGeometry(domain, dim=2).GenerateMesh(maxh=0.1))\n",
    "# visualize: you can either Draw(mesh) or Draw(domain)"
   ]
  },
  {
   "cell_type": "markdown",
   "id": "933620be-3df4-4621-b5cb-3bde0c6a11bc",
   "metadata": {},
   "source": [
    "Using the names assigned while creating the domain, we can create a piecewise function which takes values of distinct expressions on distinct subdomains. Here is a simple example for this domain, which defines the function $f$ we want to approximate using finite elements. "
   ]
  },
  {
   "cell_type": "code",
   "execution_count": null,
   "id": "6db53b4d-954b-413c-b16e-1344e0aed796",
   "metadata": {},
   "outputs": [],
   "source": [
    "mesh.GetMaterials()  # recall names assigned during domain creation"
   ]
  },
  {
   "cell_type": "code",
   "execution_count": null,
   "id": "2693dac8-d896-4932-8797-8dd93c89200a",
   "metadata": {},
   "outputs": [],
   "source": [
    "f = mesh.MaterialCF({'nose': exp(-100*((x-0.55)**2 + (y-1)**2/10))}, default=0)\n",
    "Draw(f, mesh, deformation=True);"
   ]
  },
  {
   "cell_type": "markdown",
   "id": "3ef33870-13a9-40e5-b682-cac6691a9de0",
   "metadata": {},
   "source": [
    "Here is the best approximation to this $f$ from the DG space of degree one:"
   ]
  },
  {
   "cell_type": "code",
   "execution_count": null,
   "id": "d27f8941-bffc-4deb-823e-33029ae32c75",
   "metadata": {},
   "outputs": [],
   "source": [
    "wh = MinDistL2(ng.L2(mesh, order=1),f)\n",
    "print('Error in best approximation by DG = ', ng.Integrate((wh - f)**2, mesh))\n",
    "Draw(wh, deformation=True,  euler_angles=[-70, 0, -70])"
   ]
  },
  {
   "cell_type": "markdown",
   "id": "694d7b62-c3b4-48c0-8e4d-bf66ef7a8934",
   "metadata": {},
   "source": [
    "What if we use the Lagrange space of the same degree? "
   ]
  },
  {
   "cell_type": "code",
   "execution_count": null,
   "id": "42aeb499-ba66-45b6-bd90-04d44ee2a27c",
   "metadata": {},
   "outputs": [],
   "source": [
    "vh = MinDistL2(ng.H1(mesh, order=1), f)\n",
    "print('Error in best approximation by H1 = ', ng.Integrate((vh - f)**2, mesh))\n",
    "# Draw(vh, deformation=True) "
   ]
  },
  {
   "cell_type": "markdown",
   "id": "5598ba32-6e03-4eb2-bb7c-840331f967c1",
   "metadata": {},
   "source": [
    "And how does the CR space of the same degree perform? "
   ]
  },
  {
   "cell_type": "code",
   "execution_count": null,
   "id": "a019a526-2eaa-456d-9762-a64da13bc3c3",
   "metadata": {},
   "outputs": [],
   "source": [
    "uh = MinDistL2(ng.FESpace('nonconforming', mesh), f)\n",
    "print('Error in best approximation by CR = ', ng.Integrate((uh - f)**2, mesh))\n",
    "# Draw(uh, deformation=True)"
   ]
  },
  {
   "cell_type": "markdown",
   "id": "dc70a8d6-d1c1-4be0-9870-6b0c85ddfa37",
   "metadata": {},
   "source": [
    "Clearly, minimization over smaller subspaces result in larger errors. For this particular $f$, the DG space is very well suited for approximation because $f$ is discontinuous along a curve that is a union of some element interfaces (where DG functions are also allowed to be discontinuous)."
   ]
  },
  {
   "cell_type": "markdown",
   "id": "df540623-40dd-4e63-9f10-19b18bbe9a6f",
   "metadata": {},
   "source": [
    "**Questions for discussion:**\n",
    "\n",
    "- Is the best approximation mapping $f \\mapsto f_h$ an orthogonal projection?\n",
    "- Could we use a linear solver rather than a nonlinear solver to compute this map?\n"
   ]
  },
  {
   "cell_type": "markdown",
   "id": "cb65ae39-64fa-477b-a630-98b8aff046e7",
   "metadata": {},
   "source": [
    "## Constrained minimization"
   ]
  },
  {
   "cell_type": "markdown",
   "id": "783cfa6f-a993-4591-a2df-04d748bfbc8c",
   "metadata": {},
   "source": [
    "Recall how local degrees of freedom were fused together to form the global CR space and that note that edge midpoint continuity is equivalent to the zero mean of the jump of the function across the edge. We thus recognize that the CR space can also be written as the following subspace the linear DG space:\n",
    "\n",
    "$$\n",
    "U_h = \\{ w \\in W_{h1}: \\text{ jump of $w$ across every interior mesh edge has zero mean} \\}.\n",
    "$$\n",
    "\n",
    "\n",
    "The jump of $w$ is a function on element interfaces, typically denoted by &LeftDoubleBracket; $ w $  &RightDoubleBracket;, but here we will denote it simply  by  $\\mathrm{jump}(w)$. With this notation, the best approximation $f_h$ to $f$ from $U_h$ is also the solution of a constrained optimization problem on $W_{h1}$:\n",
    "\n",
    "\n",
    "$$\n",
    "\\begin{aligned}\n",
    "\\| f - f_h\\|_{L_2(\\om)}\n",
    "& = \\min_{u_h \\in U_h}  \\| f - u_h\\|_{L_2(\\om)}\n",
    "\\\\\n",
    "& = \\min_{\\overset{\\scriptstyle{w_h \\in W_{h1}}}{\\int_F \\mathrm{jump}(w_h)=0 \\text{ on facets } F}} \\| f - w_h\\|_{L_2(\\om)}\n",
    "\\end{aligned}\n",
    "$$\n",
    "\n",
    "Thus, the unconstrained minimization over $U_h$ is equivalent to a constrained minimization over $W_{h1}$. From this perspective, it is natural to ask what happens if we constrain $\\mathrm{jump}(w_h)$ further, e.g., instead of just the zero-th order moment, one could require further higher-order moments of the jump to vanish. \n",
    "\n",
    "**Questions for discussion:** \n",
    "- How to transform a condition on $\\mathrm{jump}(w)$ to a sum over element boundaries? \n",
    "- Is it possible to compute the $L_2$ best approximation of $f$ from a generalized CR-like space $U_{hpk}$? Here $U_{hpk}$ is defined by \n",
    "\n",
    "$$\n",
    "U_{hpk} = \\Big\\{ w \\in W_{hp}: \\int_F \\mathrm{jump}(w) q =0 \\text{ for all } q \\in P_k(F) \\text{ on all interior edges } F\\Big\\}.\n",
    "$$\n"
   ]
  },
  {
   "cell_type": "code",
   "execution_count": null,
   "id": "4893f5d7-a21f-4493-b706-62fe4b785176",
   "metadata": {},
   "outputs": [],
   "source": [
    "# Compute best approximation from U_hpk\n",
    "p = 3    \n",
    "k = 1\n",
    "\n",
    "W = ng.L2(mesh, order=p)                  # Approximation lives here \n",
    "L = ng.NormalFacetFESpace(mesh, order=1)  # Lagrange multiplier is here\n",
    "n = ng.specialcf.normal(mesh.dim)\n",
    "WL = W * L   # Cartesian product of two finite element spaces\n",
    "\n",
    "approx, multiplier = WL.TrialFunction()\n",
    "distance2 = (f - approx)**2 \n",
    "constraint = ng.InnerProduct(multiplier, approx*n)\n",
    "\n",
    "a = ng.BilinearForm(WL)\n",
    "a += ng.Variation(distance2 * dx + constraint * dx(element_boundary=True))\n",
    "                  \n",
    "best_approx = ng.GridFunction(WL) # beware of nonconvergence/singularity\n",
    "ng.solvers.Newton(a=a, u=best_approx, printing=True)\n",
    "\n",
    "uh2 = best_approx.components[0]\n",
    "ng.Integrate((uh2 - f)**2, mesh)"
   ]
  },
  {
   "cell_type": "code",
   "execution_count": null,
   "id": "a8961d07-0b53-4383-ab25-18193d69bc2f",
   "metadata": {},
   "outputs": [],
   "source": [
    "Draw(uh2, mesh, deformation=True, euler_angles=[-70, 0, -70], \n",
    "     settings={\"Misc\": {\"subdivision\": 15, \"line_thickness\": 5, \"fast_draw\": False}});"
   ]
  },
  {
   "cell_type": "markdown",
   "id": "ff84e737-290b-432b-a4c7-2d332182c896",
   "metadata": {},
   "source": [
    "## Summary"
   ]
  },
  {
   "cell_type": "markdown",
   "id": "3e576ef8-e14b-491f-a10a-52b239e01a77",
   "metadata": {},
   "source": [
    "\n",
    "We have seen\n",
    "\n",
    "- the DG, Lagrange, and Crouzeix-Raviart finite element spaces on 2D domains,\n",
    "- how to optimize a nonlinear functional using a built-in Newton solver in ngsolve,\n",
    "- how to compute best approximations from spaces by minimizing distance,\n",
    "- some OpenCascade geometry modeling constructs, \n",
    "- unit outward normal vector on element boundaries,\n",
    "- use of a facet finite element space,\n",
    "- jump functions through element boundary sums,\n",
    "- how to integrate inside an element and also over element boundaries, \n",
    "- product of finite element spaces,\n",
    "- constrained optimization by Lagrange multipliers."
   ]
  }
 ],
 "metadata": {
  "kernelspec": {
   "display_name": "Python 3 (ipykernel)",
   "language": "python",
   "name": "python3"
  },
  "language_info": {
   "codemirror_mode": {
    "name": "ipython",
    "version": 3
   },
   "file_extension": ".py",
   "mimetype": "text/x-python",
   "name": "python",
   "nbconvert_exporter": "python",
   "pygments_lexer": "ipython3",
   "version": "3.14.0"
  }
 },
 "nbformat": 4,
 "nbformat_minor": 5
}
