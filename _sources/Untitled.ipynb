{
 "cells": [
  {
   "cell_type": "markdown",
   "id": "c198ee36-c088-4907-9574-0cb726f24e26",
   "metadata": {},
   "source": [
    "# Mesh and piecewise polynomials"
   ]
  },
  {
   "cell_type": "markdown",
   "id": "a8ef3359-2c42-4671-ac64-b2eeeb3c9023",
   "metadata": {},
   "source": [
    "A simple space which one can use to approximate functions on complicated domains is the space of piecewise polynomials with respect to a triangulation of the domain."
   ]
  },
  {
   "cell_type": "code",
   "execution_count": 18,
   "id": "3b1ab474-780a-4dca-8673-11a9805d5d84",
   "metadata": {},
   "outputs": [],
   "source": [
    "import ngsolve as ng\n",
    "from netgen.occ import WorkPlane, Compound\n",
    "from ngsolve.webgui import Draw"
   ]
  },
  {
   "cell_type": "code",
   "execution_count": 45,
   "id": "c2475a3b-e43f-4e77-9161-3f59aba1b6e4",
   "metadata": {},
   "outputs": [
    {
     "data": {
      "application/vnd.jupyter.widget-view+json": {
       "model_id": "9817bb8752f84edb91585d480c52a762",
       "version_major": 2,
       "version_minor": 0
      },
      "text/plain": [
       "WebGuiWidget(layout=Layout(height='50vh', width='100%'), value={'ngsolve_version': 'Netgen x.x', 'mesh_dim': 3…"
      ]
     },
     "metadata": {},
     "output_type": "display_data"
    }
   ],
   "source": [
    "wp = WorkPlane()\n",
    "n = 8\n",
    "for i in range(n):\n",
    "    wp.Line(1).Rotate(360/n)\n",
    "face = wp.Face()\n",
    "wp.MoveTo(0, 1.5)\n",
    "eye1 = wp.Rectangle(l=0.3, w=0.2).Face()\n",
    "wp.MoveTo(0.6, 1.5)\n",
    "eye2 = wp.Rectangle(l=0.3, w=0.2).Face()\n",
    "wp.MoveTo(0, 0.3)\n",
    "smile = wp.Rectangle(l=1, w=0.15).Face()\n",
    "\n",
    "domain = face - eye1 - eye2 - smile\n",
    "Draw(domain);"
   ]
  },
  {
   "cell_type": "code",
   "execution_count": 20,
   "id": "d1925a29-1c4c-4924-b9a1-34671cf27280",
   "metadata": {},
   "outputs": [
    {
     "data": {
      "application/vnd.jupyter.widget-view+json": {
       "model_id": "aea0213823f34f9ca6d2873ea60702b4",
       "version_major": 2,
       "version_minor": 0
      },
      "text/plain": [
       "WebGuiWidget(layout=Layout(height='50vh', width='100%'), value={'ngsolve_version': 'Netgen x.x', 'mesh_dim': 3…"
      ]
     },
     "metadata": {},
     "output_type": "display_data"
    }
   ],
   "source": [
    "wp = WorkPlane()\n",
    "for i in range(6):\n",
    "    wp.Line(1).Rotate(60)\n",
    "face = wp.Face()\n",
    "Draw(face);"
   ]
  },
  {
   "cell_type": "code",
   "execution_count": null,
   "id": "4b746597-5c95-4767-9de0-317c80cae7c0",
   "metadata": {},
   "outputs": [],
   "source": []
  }
 ],
 "metadata": {
  "kernelspec": {
   "display_name": "Python 3 (ipykernel)",
   "language": "python",
   "name": "python3"
  },
  "language_info": {
   "codemirror_mode": {
    "name": "ipython",
    "version": 3
   },
   "file_extension": ".py",
   "mimetype": "text/x-python",
   "name": "python",
   "nbconvert_exporter": "python",
   "pygments_lexer": "ipython3",
   "version": "3.11.6"
  }
 },
 "nbformat": 4,
 "nbformat_minor": 5
}
