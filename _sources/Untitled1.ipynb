{
 "cells": [
  {
   "cell_type": "code",
   "execution_count": 4,
   "id": "1b0b5859-ce40-4985-bfd7-9bfb759c843f",
   "metadata": {},
   "outputs": [],
   "source": [
    "%load_ext jupyter_tikz"
   ]
  },
  {
   "cell_type": "code",
   "execution_count": 5,
   "id": "622815b7-3ad3-4e5e-895a-a445c61fa1a3",
   "metadata": {},
   "outputs": [
    {
     "name": "stderr",
     "output_type": "stream",
     "text": [
      "This is pdfTeX, Version 3.141592653-2.6-1.40.25 (TeX Live 2023) (preloaded format=pdflatex)\n",
      " restricted \\write18 enabled.\n",
      "entering extended mode\n",
      "\n",
      "(/Users/Jay/Library/CloudStorage/Dropbox/Jay/teaching/2025-26/jupyter/fem-suppl\n",
      "ements/0c6b71fd0d13eb0c102d698dfae139f2.tex\n",
      "LaTeX2e <2023-06-01> patch level 1\n",
      "L3 programming layer <2023-06-30>\n",
      "! Undefined control sequence.\n",
      "l.1 \\draw\n",
      "          (0,0) rectangle (1,1);\n",
      "? \n",
      "! Emergency stop.\n",
      "l.1 \n",
      "    \n",
      "!  ==> Fatal error occurred, no output PDF file produced!\n",
      "Transcript written on 0c6b71fd0d13eb0c102d698dfae139f2.log.\n"
     ]
    }
   ],
   "source": [
    "%%tikz -f svg -s 300,200\n",
    "\\draw (0,0) rectangle (1,1);\n",
    "\\filldraw (0.5,0.5) circle (.1);"
   ]
  },
  {
   "cell_type": "code",
   "execution_count": 6,
   "id": "165b2cda-b66a-46e7-b0d2-74401ad57704",
   "metadata": {},
   "outputs": [
    {
     "name": "stderr",
     "output_type": "stream",
     "text": [
      "/bin/sh: pdftocairo: command not found\n"
     ]
    }
   ],
   "source": [
    "%%tikz\n",
    "\\begin{tikzpicture}\n",
    "    \\draw[help lines] grid (7, 5);\n",
    "     \\filldraw [color=red, opacity=0.3] (2.5,2.5) circle (1.5);\n",
    "     \\filldraw [color=cyan, opacity=0.3] (4.5,2.5) circle (1.5);\n",
    "\\end{tikzpicture}"
   ]
  },
  {
   "cell_type": "code",
   "execution_count": null,
   "id": "84c9fb29-6ede-42d0-b6d3-f0542fa1681c",
   "metadata": {},
   "outputs": [],
   "source": []
  }
 ],
 "metadata": {
  "kernelspec": {
   "display_name": "Python 3 (ipykernel)",
   "language": "python",
   "name": "python3"
  },
  "language_info": {
   "codemirror_mode": {
    "name": "ipython",
    "version": 3
   },
   "file_extension": ".py",
   "mimetype": "text/x-python",
   "name": "python",
   "nbconvert_exporter": "python",
   "pygments_lexer": "ipython3",
   "version": "3.14.0"
  }
 },
 "nbformat": 4,
 "nbformat_minor": 5
}
