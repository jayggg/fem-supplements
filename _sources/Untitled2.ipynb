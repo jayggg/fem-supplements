{
 "cells": [
  {
   "cell_type": "code",
   "execution_count": 5,
   "id": "4273caa8-bfde-49b3-9e85-254d2d1b0a48",
   "metadata": {},
   "outputs": [],
   "source": [
    "from ngsolve.meshes import Make1DMesh\n",
    "from ngsolve import *\n",
    "from ngsolve.comp import IntegrationRuleSpace"
   ]
  },
  {
   "cell_type": "code",
   "execution_count": 2,
   "id": "bf087dd8-6c19-4973-90b6-1f6e36533919",
   "metadata": {},
   "outputs": [
    {
     "data": {
      "text/plain": [
       "1"
      ]
     },
     "execution_count": 2,
     "metadata": {},
     "output_type": "execute_result"
    }
   ],
   "source": [
    "mesh = Make1DMesh(1)\n",
    "mesh.ne"
   ]
  },
  {
   "cell_type": "code",
   "execution_count": null,
   "id": "1c188fed-903b-4588-9c16-ac9729ec0e23",
   "metadata": {},
   "outputs": [],
   "source": []
  }
 ],
 "metadata": {
  "kernelspec": {
   "display_name": "Python 3 (ipykernel)",
   "language": "python",
   "name": "python3"
  },
  "language_info": {
   "codemirror_mode": {
    "name": "ipython",
    "version": 3
   },
   "file_extension": ".py",
   "mimetype": "text/x-python",
   "name": "python",
   "nbconvert_exporter": "python",
   "pygments_lexer": "ipython3",
   "version": "3.14.0"
  }
 },
 "nbformat": 4,
 "nbformat_minor": 5
}
