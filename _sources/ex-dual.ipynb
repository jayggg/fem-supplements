{
 "cells": [
  {
   "cell_type": "code",
   "execution_count": 1,
   "id": "7032661f-99a6-4200-8ed6-2a6a0b103a70",
   "metadata": {},
   "outputs": [],
   "source": [
    "import ngsolve as ng\n",
    "from ngsolve import Mesh, H1, L2, FESpace, GridFunction, x, y, dx, exp \n",
    "from netgen.occ import unit_square\n",
    "from ngsolve.webgui import Draw"
   ]
  },
  {
   "cell_type": "code",
   "execution_count": 2,
   "id": "9e25767b-b3b6-4d0a-a081-4f8f22f22aab",
   "metadata": {},
   "outputs": [],
   "source": [
    "mesh = Mesh(unit_square.GenerateMesh(maxh=0.4))"
   ]
  },
  {
   "cell_type": "code",
   "execution_count": 3,
   "id": "0452e13b-a545-4555-8639-014677d221ac",
   "metadata": {},
   "outputs": [
    {
     "data": {
      "application/vnd.jupyter.widget-view+json": {
       "model_id": "56d7e8f4bb684b6da54f6ecc351f1ea8",
       "version_major": 2,
       "version_minor": 0
      },
      "text/plain": [
       "WebGuiWidget(layout=Layout(height='50vh', width='100%'), value={'gui_settings': {'Misc': {'subdivision': 15, '…"
      ]
     },
     "metadata": {},
     "output_type": "display_data"
    }
   ],
   "source": [
    "V2 = ng.H1(mesh, order=2)\n",
    "v = GridFunction(V2)\n",
    "v.vec[:] = 0;\n",
    "v.vec[40] = -1\n",
    "Draw(v, deformation=True, euler_angles=[-60,0,0],\n",
    "     settings={\"Misc\": {\"subdivision\": 15, \"line_thickness\": 5, \"fast_draw\": True},\n",
    "               \"Colormap\":{\"autoscale\": True, \"ncolors\": 16}});"
   ]
  },
  {
   "cell_type": "code",
   "execution_count": null,
   "id": "6ae40e66-cc4d-4574-8601-45d00c292811",
   "metadata": {},
   "outputs": [],
   "source": [
    "u,v = fes.TnT()\n",
    "vdual = v.Operator(\"dual\")\n",
    "\n",
    "a = BilinearForm(fes)\n",
    "a += u*vdual*dx(element_vb=BBND)\n",
    "a.Assemble()\n",
    "\n",
    "f = LinearForm(fes)\n",
    "f += func*vdual*dx + func*vdual*dx(element_vb=BND) + \\\n",
    "    func*vdual*dx(element_vb=BBND)\n",
    "f.Assemble()\n",
    "\n",
    "# interpolation in vertices preserves values 0 and 1\n",
    "gfu.vec.data = a.mat.Inverse() * f.vec\n",
    "print (gfu.vec)\n",
    "Draw (gfu);"
   ]
  }
 ],
 "metadata": {
  "kernelspec": {
   "display_name": "Python 3 (ipykernel)",
   "language": "python",
   "name": "python3"
  },
  "language_info": {
   "codemirror_mode": {
    "name": "ipython",
    "version": 3
   },
   "file_extension": ".py",
   "mimetype": "text/x-python",
   "name": "python",
   "nbconvert_exporter": "python",
   "pygments_lexer": "ipython3",
   "version": "3.14.0"
  }
 },
 "nbformat": 4,
 "nbformat_minor": 5
}
